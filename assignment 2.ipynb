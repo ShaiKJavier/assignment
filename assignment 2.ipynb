{
 "cells": [
  {
   "cell_type": "code",
   "execution_count": null,
   "id": "964c43fc",
   "metadata": {},
   "outputs": [],
   "source": [
    "#Write a Python program to get a list, sorted in increasing order by the last element in each tuple from a given list of non-empty tuples\n",
    "Sample List : [(2, 5), (1, 2), (4, 4), (2, 3), (2, 1)]\n",
    "\n",
    "Expected Result : [(2, 1), (1, 2), (2, 3), (4, 4), (2, 5)]"
   ]
  },
  {
   "cell_type": "markdown",
   "id": "3978d178",
   "metadata": {},
   "source": [
    "l1 =  [(2, 5), (1, 2), (4, 4), (2, 3), (2, 1)"
   ]
  },
  {
   "cell_type": "code",
   "execution_count": 8,
   "id": "a30f0311",
   "metadata": {},
   "outputs": [
    {
     "name": "stdout",
     "output_type": "stream",
     "text": [
      "[(2, 1), (1, 2), (2, 3), (4, 4), (2, 5)]\n"
     ]
    }
   ],
   "source": [
    "n =  [(2, 5), (1, 2), (4, 4), (2, 3), (2, 1)]\n",
    "\n",
    "def l1(n):\n",
    "    return n[-1]\n",
    "def sort_list_l1(tuples):\n",
    "    return sorted(tuples,key=l1)\n",
    "print(sort_list_l1(n))\n"
   ]
  },
  {
   "cell_type": "code",
   "execution_count": null,
   "id": "4368f611",
   "metadata": {},
   "outputs": [],
   "source": []
  }
 ],
 "metadata": {
  "kernelspec": {
   "display_name": "Python 3",
   "language": "python",
   "name": "python3"
  },
  "language_info": {
   "codemirror_mode": {
    "name": "ipython",
    "version": 3
   },
   "file_extension": ".py",
   "mimetype": "text/x-python",
   "name": "python",
   "nbconvert_exporter": "python",
   "pygments_lexer": "ipython3",
   "version": "3.8.8"
  }
 },
 "nbformat": 4,
 "nbformat_minor": 5
}
